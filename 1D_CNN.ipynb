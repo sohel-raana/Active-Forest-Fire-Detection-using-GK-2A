{
  "nbformat": 4,
  "nbformat_minor": 0,
  "metadata": {
    "colab": {
      "provenance": []
    },
    "kernelspec": {
      "name": "python3",
      "display_name": "Python 3"
    },
    "language_info": {
      "name": "python"
    }
  },
  "cells": [
    {
      "cell_type": "code",
      "execution_count": null,
      "metadata": {
        "colab": {
          "base_uri": "https://localhost:8080/"
        },
        "id": "eAmIfMOZziIi",
        "outputId": "2164f52b-487d-4d8e-a36f-ca8d2d50e3d2"
      },
      "outputs": [
        {
          "output_type": "stream",
          "name": "stdout",
          "text": [
            "Mounted at /content/drive\n"
          ]
        }
      ],
      "source": [
        "from google.colab import drive\n",
        "drive.mount('/content/drive')\n",
        "\n",
        "### Define your work path ###\n",
        "work_path = '/content/drive/MyDrive/'"
      ]
    },
    {
      "cell_type": "code",
      "source": [
        "import pandas as pd\n",
        "import numpy as np\n",
        "from sklearn.model_selection import train_test_split\n",
        "from sklearn.preprocessing import StandardScaler\n",
        "from sklearn.metrics import accuracy_score, confusion_matrix\n",
        "import matplotlib.pyplot as plt\n",
        "from tensorflow.keras.models import Sequential\n",
        "from tensorflow.keras.layers import Conv1D, MaxPooling1D, Flatten, Dense, Dropout, BatchNormalization\n",
        "from tensorflow.keras.optimizers import Adam"
      ],
      "metadata": {
        "id": "2uEVirLy0IWe"
      },
      "execution_count": null,
      "outputs": []
    },
    {
      "cell_type": "code",
      "source": [
        "#File Path\n",
        "file_path = work_path+'Dataset_sj.csv'\n",
        "df = pd.read_csv(file_path)\n",
        "\n",
        "# Select relevant features and target variable\n",
        "features = ['SW38', 'SW38_C', 'SW38-IR105', 'SW38-IR105_C', 'NR13', 'NR13_C', 'SOZ']\n",
        "target = 'Isfire'"
      ],
      "metadata": {
        "id": "RBmyb0ZU0L_G"
      },
      "execution_count": null,
      "outputs": []
    },
    {
      "cell_type": "code",
      "source": [
        "# Filter the dataset for the selected casenum values\n",
        "train_data = df[df['Casenum'].isin([124, 130])]\n",
        "test_data = df[df['Casenum'].isin([119, 151])]\n",
        "\n",
        "# Separate features and target variable\n",
        "X_train = train_data[features].values\n",
        "y_train = train_data[target].values\n",
        "X_test = test_data[features].values\n",
        "y_test = test_data[target].values"
      ],
      "metadata": {
        "id": "XI4c2RLQ0S3e"
      },
      "execution_count": null,
      "outputs": []
    },
    {
      "cell_type": "code",
      "source": [
        "# Standardize the features\n",
        "scaler = StandardScaler()\n",
        "X_train = scaler.fit_transform(X_train)\n",
        "X_test = scaler.transform(X_test)"
      ],
      "metadata": {
        "id": "06cGMCi52Ql-"
      },
      "execution_count": null,
      "outputs": []
    },
    {
      "cell_type": "code",
      "source": [
        "# Reshape the features for 1D CNN input\n",
        "X_train = X_train.reshape(X_train.shape[0], X_train.shape[1], 1)\n",
        "X_test = X_test.reshape(X_test.shape[0], X_test.shape[1], 1)"
      ],
      "metadata": {
        "id": "-OS8lyWd2Srt"
      },
      "execution_count": null,
      "outputs": []
    },
    {
      "cell_type": "code",
      "source": [
        "#1D CNN model\n",
        "model = Sequential()\n",
        "model.add(Conv1D(filters=64, kernel_size=3, activation='relu', input_shape=(X_train.shape[1], 1)))\n",
        "model.add(BatchNormalization())\n",
        "model.add(MaxPooling1D(pool_size=2))\n",
        "model.add(Dropout(0.25))  # Adding dropout\n",
        "model.add(Flatten())\n",
        "model.add(Dense(64, activation='relu'))\n",
        "model.add(BatchNormalization())\n",
        "model.add(Dropout(0.5))  # Adding dropout\n",
        "model.add(Dense(1, activation='sigmoid'))"
      ],
      "metadata": {
        "id": "rK-hidSy0T2u"
      },
      "execution_count": null,
      "outputs": []
    },
    {
      "cell_type": "code",
      "source": [
        "#learning rate\n",
        "learning_rate = 0.001\n",
        "optimizer = Adam(learning_rate=learning_rate)\n",
        "\n",
        "# Compile the model\n",
        "model.compile(optimizer=optimizer, loss='binary_crossentropy', metrics=['accuracy'])\n",
        "\n",
        "# Train the model\n",
        "history = model.fit(X_train, y_train, epochs=20, batch_size=32, validation_data=(X_test, y_test))"
      ],
      "metadata": {
        "colab": {
          "base_uri": "https://localhost:8080/"
        },
        "id": "WbWJLvy62Xld",
        "outputId": "97f15aea-a45b-4a06-9d1c-8d73172f0110"
      },
      "execution_count": null,
      "outputs": [
        {
          "output_type": "stream",
          "name": "stdout",
          "text": [
            "Epoch 1/20\n",
            "419/419 [==============================] - 6s 9ms/step - loss: 0.0115 - accuracy: 0.9963 - val_loss: 0.2707 - val_accuracy: 0.9746\n",
            "Epoch 2/20\n",
            "419/419 [==============================] - 2s 4ms/step - loss: 0.0127 - accuracy: 0.9960 - val_loss: 0.1937 - val_accuracy: 0.9768\n",
            "Epoch 3/20\n",
            "419/419 [==============================] - 2s 4ms/step - loss: 0.0106 - accuracy: 0.9966 - val_loss: 0.2470 - val_accuracy: 0.9743\n",
            "Epoch 4/20\n",
            "419/419 [==============================] - 2s 4ms/step - loss: 0.0136 - accuracy: 0.9960 - val_loss: 0.3289 - val_accuracy: 0.9733\n",
            "Epoch 5/20\n",
            "419/419 [==============================] - 2s 6ms/step - loss: 0.0096 - accuracy: 0.9969 - val_loss: 0.2716 - val_accuracy: 0.9743\n",
            "Epoch 6/20\n",
            "419/419 [==============================] - 2s 6ms/step - loss: 0.0102 - accuracy: 0.9972 - val_loss: 0.3006 - val_accuracy: 0.9733\n",
            "Epoch 7/20\n",
            "419/419 [==============================] - 2s 4ms/step - loss: 0.0107 - accuracy: 0.9968 - val_loss: 0.2568 - val_accuracy: 0.9746\n",
            "Epoch 8/20\n",
            "419/419 [==============================] - 2s 4ms/step - loss: 0.0107 - accuracy: 0.9969 - val_loss: 0.2685 - val_accuracy: 0.9733\n",
            "Epoch 9/20\n",
            "419/419 [==============================] - 2s 4ms/step - loss: 0.0128 - accuracy: 0.9963 - val_loss: 0.2492 - val_accuracy: 0.9743\n",
            "Epoch 10/20\n",
            "419/419 [==============================] - 2s 4ms/step - loss: 0.0129 - accuracy: 0.9966 - val_loss: 0.2194 - val_accuracy: 0.9741\n",
            "Epoch 11/20\n",
            "419/419 [==============================] - 2s 4ms/step - loss: 0.0100 - accuracy: 0.9961 - val_loss: 0.2876 - val_accuracy: 0.9733\n",
            "Epoch 12/20\n",
            "419/419 [==============================] - 2s 4ms/step - loss: 0.0094 - accuracy: 0.9976 - val_loss: 0.2354 - val_accuracy: 0.9743\n",
            "Epoch 13/20\n",
            "419/419 [==============================] - 2s 6ms/step - loss: 0.0103 - accuracy: 0.9969 - val_loss: 0.3357 - val_accuracy: 0.9733\n",
            "Epoch 14/20\n",
            "419/419 [==============================] - 2s 5ms/step - loss: 0.0109 - accuracy: 0.9963 - val_loss: 0.2634 - val_accuracy: 0.9741\n",
            "Epoch 15/20\n",
            "419/419 [==============================] - 2s 5ms/step - loss: 0.0105 - accuracy: 0.9973 - val_loss: 0.3257 - val_accuracy: 0.9738\n",
            "Epoch 16/20\n",
            "419/419 [==============================] - 2s 4ms/step - loss: 0.0091 - accuracy: 0.9972 - val_loss: 0.2998 - val_accuracy: 0.9746\n",
            "Epoch 17/20\n",
            "419/419 [==============================] - 2s 4ms/step - loss: 0.0094 - accuracy: 0.9971 - val_loss: 0.2575 - val_accuracy: 0.9738\n",
            "Epoch 18/20\n",
            "419/419 [==============================] - 2s 4ms/step - loss: 0.0103 - accuracy: 0.9966 - val_loss: 0.2954 - val_accuracy: 0.9738\n",
            "Epoch 19/20\n",
            "419/419 [==============================] - 2s 4ms/step - loss: 0.0110 - accuracy: 0.9969 - val_loss: 0.2761 - val_accuracy: 0.9746\n",
            "Epoch 20/20\n",
            "419/419 [==============================] - 2s 4ms/step - loss: 0.0086 - accuracy: 0.9969 - val_loss: 0.2875 - val_accuracy: 0.9733\n"
          ]
        }
      ]
    },
    {
      "cell_type": "code",
      "source": [
        "# model evaluation on the test data\n",
        "y_pred_prob = model.predict(X_test)\n",
        "y_pred = (y_pred_prob > 0.5).astype(int)\n",
        "\n",
        "accuracy = accuracy_score(y_test, y_pred)\n",
        "print(f\"Test Accuracy: {accuracy}\")"
      ],
      "metadata": {
        "colab": {
          "base_uri": "https://localhost:8080/"
        },
        "id": "ID37OxPe2aA9",
        "outputId": "feeed58d-c0e2-4336-ecaf-dd198c6f2cbe"
      },
      "execution_count": null,
      "outputs": [
        {
          "output_type": "stream",
          "name": "stdout",
          "text": [
            "128/128 [==============================] - 0s 2ms/step\n",
            "Test Accuracy: 0.973330070956692\n"
          ]
        }
      ]
    },
    {
      "cell_type": "code",
      "source": [
        "# DataFrame with predictions, features, Lat, and Lon\n",
        "results_df = pd.DataFrame(np.concatenate([X_test.reshape(X_test.shape[0], -1), y_pred, df.loc[test_data.index, ['Lat', 'Lon', 'Casenum','Year','Month','Day','Hour','Minute']]], axis=1),\n",
        "                           columns=[f'Feature_{i}' for i in range(X_test.shape[1])] + ['Predicted_IsFire', 'Lat', 'Lon', 'Casenum','Year','Month','Day','Hour','Minute'])\n",
        "\n",
        "#'Isfire' column before any modifications\n",
        "isfire_column = test_data['Isfire'].values\n",
        "\n",
        "# Add 'Isfire' column from the original data\n",
        "results_df['Isfire'] = isfire_column\n",
        "\n",
        "\n",
        "# Save a CSV file\n",
        "results_df.to_csv(work_path+'predictions_with_coordinates.csv', index=False)\n"
      ],
      "metadata": {
        "id": "WoIA-I-JFmRI"
      },
      "execution_count": null,
      "outputs": []
    },
    {
      "cell_type": "code",
      "source": [
        "# Confusion Matrix\n",
        "conf_matrix = confusion_matrix(y_test, y_pred)\n",
        "print(\"Confusion Matrix:\")\n",
        "print(conf_matrix)"
      ],
      "metadata": {
        "colab": {
          "base_uri": "https://localhost:8080/"
        },
        "id": "Cj7yi6A32b3w",
        "outputId": "47853374-fd66-4ba1-8eb1-911460b10a51"
      },
      "execution_count": null,
      "outputs": [
        {
          "output_type": "stream",
          "name": "stdout",
          "text": [
            "Confusion Matrix:\n",
            "[[3705    2]\n",
            " [  73  307]]\n"
          ]
        }
      ]
    },
    {
      "cell_type": "code",
      "source": [
        "# Visualize Model Loss\n",
        "plt.plot(history.history['loss'], label='Training Loss')\n",
        "plt.plot(history.history['val_loss'], label='Validation Loss')\n",
        "plt.title('Model Loss')\n",
        "plt.xlabel('Epochs')\n",
        "plt.ylabel('Loss')\n",
        "plt.legend()\n",
        "plt.show()"
      ],
      "metadata": {
        "colab": {
          "base_uri": "https://localhost:8080/",
          "height": 472
        },
        "id": "6dq1oOT82edw",
        "outputId": "6a706d3b-680b-43ad-8bf0-40f0846ad220"
      },
      "execution_count": null,
      "outputs": [
        {
          "output_type": "display_data",
          "data": {
            "text/plain": [
              "<Figure size 640x480 with 1 Axes>"
            ],
            "image/png": "[encoded data removed]"
          },
          "metadata": {}
        }
      ]
    },
    {
      "cell_type": "code",
      "source": [
        "import seaborn as sns\n",
        "# Plot the confusion matrix\n",
        "labels = ['Non-Fire', 'Fire']\n",
        "df_cm = pd.DataFrame(conf_matrix, index=labels, columns=labels)\n",
        "plt.figure(figsize=(8, 6))\n",
        "sns.heatmap(df_cm, annot=True, fmt='d', cmap='Blues')\n",
        "plt.title('Confusion Matrix')\n",
        "plt.xlabel('Predicted')\n",
        "plt.ylabel('True')\n",
        "plt.savefig('confusion_matrix.png')\n",
        "plt.show()"
      ],
      "metadata": {
        "colab": {
          "base_uri": "https://localhost:8080/",
          "height": 564
        },
        "id": "FX_4SjXGBvNg",
        "outputId": "5b2493b0-5429-4f68-feb3-38168f5c6b94"
      },
      "execution_count": null,
      "outputs": [
        {
          "output_type": "display_data",
          "data": {
            "text/plain": [
              "<Figure size 800x600 with 2 Axes>"
            ],
            "image/png": "[encoded data removed]"
          },
          "metadata": {}
        }
      ]
    },
    {
      "cell_type": "code",
      "source": [
        "import pandas as pd\n",
        "\n",
        "df_new = pd.read_csv(work_path+'predictions_with_coordinates.csv')\n",
        "\n",
        "# new column based on conditions\n",
        "df_new['New'] = df_new['Isfire'] * 2 + df_new['Predicted_IsFire'] + 1\n",
        "\n",
        "print(df)\n",
        "df_new.to_csv(work_path+'predictions_with_coordinates_new.csv', index=False)\n"
      ],
      "metadata": {
        "colab": {
          "base_uri": "https://localhost:8080/"
        },
        "id": "huolG5Efdtqp",
        "outputId": "10fba16b-11c9-464d-d7ac-be56411a6bbb"
      },
      "execution_count": null,
      "outputs": [
        {
          "output_type": "stream",
          "name": "stdout",
          "text": [
            "        Isfire  Isvali  Casenum  Year  Month  Day  Hour  Minute       Lat  \\\n",
            "0            0       0        3  2020      1    4     5       8  33.42660   \n",
            "1            0       0        3  2020      1    4     5       8  35.66608   \n",
            "2            0       0        3  2020      1    4     5       8  35.72326   \n",
            "3            0       0        3  2020      1    4     5       8  35.73622   \n",
            "4            0       0        3  2020      1    4     5       8  35.87545   \n",
            "...        ...     ...      ...   ...    ...  ...   ...     ...       ...   \n",
            "377860       1       1      190  2022      5   31    14      16  35.55391   \n",
            "377861       1       1      190  2022      5   31    14      18  35.53553   \n",
            "377862       1       1      190  2022      5   31    14      22  35.55454   \n",
            "377863       1       1      190  2022      5   31    14      24  35.53553   \n",
            "377864       1       1      190  2022      5   31    14      24  35.55391   \n",
            "\n",
            "              Lon  ...  SW38-IR112_C  SW38-IR123_C  SW38-IR133_C  \\\n",
            "0       126.70828  ...      0.037105     -0.172630     -0.008233   \n",
            "1       128.69432  ...      0.718226      1.105757      0.977639   \n",
            "2       129.23854  ...      0.573244      0.455423      0.095587   \n",
            "3       126.84626  ...     -0.568725     -0.617842     -0.271067   \n",
            "4       129.08768  ...      1.199583      1.100629      1.570843   \n",
            "...           ...  ...           ...           ...           ...   \n",
            "377860  128.75725  ...      4.149106      4.081705      3.816777   \n",
            "377861  128.75647  ...      3.494120      3.418297      3.107917   \n",
            "377862  128.73476  ...      3.090226      2.969178      2.946005   \n",
            "377863  128.75647  ...      3.814322      3.725224      3.676064   \n",
            "377864  128.75725  ...      4.254621      4.203019      4.033344   \n",
            "\n",
            "                VI06      VI08          NR13    VI06_C    VI08_C    NR13_C  \\\n",
            "0       6.094704e-02  0.172371  6.041336e-04 -0.000284  0.013023 -0.000669   \n",
            "1       8.152321e-02  0.144689  1.812398e-03  0.015299  0.011001  0.000612   \n",
            "2       1.272594e-01  0.161672  1.812398e-03  0.060064  0.029094  0.000310   \n",
            "3       9.178943e-02  0.128232  1.510332e-03 -0.009984 -0.009346  0.000277   \n",
            "4       9.059750e-02  0.143566  1.208266e-03  0.022221  0.016363 -0.000185   \n",
            "...              ...       ...           ...       ...       ...       ...   \n",
            "377860  1.422381e-08  0.000973 -6.041304e-04  0.000061  0.000888 -0.000371   \n",
            "377861  1.487586e-04 -0.000449  1.557135e-09  0.000395 -0.000442  0.000026   \n",
            "377862  1.029862e-06 -0.000374 -6.041304e-04 -0.000006 -0.000474 -0.000532   \n",
            "377863  8.924806e-04 -0.000150  6.041336e-04  0.001164 -0.000104  0.000775   \n",
            "377864 -4.455905e-04  0.000224  6.041336e-04 -0.000143  0.000273  0.000729   \n",
            "\n",
            "               SOZ  \n",
            "0        60.111017  \n",
            "1        62.828819  \n",
            "2        63.071682  \n",
            "3        62.270408  \n",
            "4        63.155402  \n",
            "...            ...  \n",
            "377860  120.429119  \n",
            "377861  120.569898  \n",
            "377862  120.783062  \n",
            "377863  120.919134  \n",
            "377864  120.901625  \n",
            "\n",
            "[377865 rows x 33 columns]\n"
          ]
        }
      ]
    }
  ]
}